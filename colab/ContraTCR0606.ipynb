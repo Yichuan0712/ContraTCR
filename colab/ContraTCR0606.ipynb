{
  "nbformat": 4,
  "nbformat_minor": 0,
  "metadata": {
    "colab": {
      "provenance": []
    },
    "kernelspec": {
      "name": "python3",
      "display_name": "Python 3"
    },
    "language_info": {
      "name": "python"
    }
  },
  "cells": [
    {
      "cell_type": "code",
      "execution_count": 1,
      "metadata": {
        "colab": {
          "base_uri": "https://localhost:8080/"
        },
        "id": "C4b1tEiLJHSA",
        "outputId": "f5d9288a-aba9-427e-ac60-49d4d2f7550a"
      },
      "outputs": [
        {
          "output_type": "stream",
          "name": "stdout",
          "text": [
            "Cloning into 'ContraTCR'...\n",
            "remote: Enumerating objects: 214, done.\u001b[K\n",
            "remote: Counting objects: 100% (24/24), done.\u001b[K\n",
            "remote: Compressing objects: 100% (17/17), done.\u001b[K\n",
            "remote: Total 214 (delta 13), reused 18 (delta 7), pack-reused 190\u001b[K\n",
            "Receiving objects: 100% (214/214), 20.92 KiB | 2.32 MiB/s, done.\n",
            "Resolving deltas: 100% (114/114), done.\n"
          ]
        }
      ],
      "source": [
        "!git clone https://github.com/Yichuan0712/ContraTCR.git"
      ]
    },
    {
      "cell_type": "code",
      "source": [
        "import os\n",
        "print(os.getcwd())\n",
        "os.chdir('ContraTCR')\n",
        "# os.listdir(os.getcwd())"
      ],
      "metadata": {
        "colab": {
          "base_uri": "https://localhost:8080/"
        },
        "id": "Tpuvbp9GJmc-",
        "outputId": "b5ba63da-00dc-4346-a57a-1dd6757ec275"
      },
      "execution_count": 2,
      "outputs": [
        {
          "output_type": "stream",
          "name": "stdout",
          "text": [
            "/content\n"
          ]
        }
      ]
    },
    {
      "cell_type": "code",
      "source": [
        "!git pull origin main"
      ],
      "metadata": {
        "colab": {
          "base_uri": "https://localhost:8080/"
        },
        "id": "l2cpxT57J7yr",
        "outputId": "f356e2c2-ef95-4d0c-bd03-3ef702deeabd"
      },
      "execution_count": 3,
      "outputs": [
        {
          "output_type": "stream",
          "name": "stdout",
          "text": [
            "From https://github.com/Yichuan0712/ContraTCR\n",
            " * branch            main       -> FETCH_HEAD\n",
            "Already up to date.\n"
          ]
        }
      ]
    },
    {
      "cell_type": "code",
      "source": [
        "!python run.py"
      ],
      "metadata": {
        "colab": {
          "base_uri": "https://localhost:8080/"
        },
        "id": "txcBbk3kJxXL",
        "outputId": "213c0c1d-73e3-4aaf-e78d-d4a1f723d83d"
      },
      "execution_count": null,
      "outputs": [
        {
          "output_type": "stream",
          "name": "stdout",
          "text": [
            "================================================================================================================================\n",
            "               ______   ______   .__   __. .___________..______          ___   .___________.  ______ .______      \n",
            "              /      | /  __  \\  |  \\ |  | |           ||   _  \\        /   \\  |           | /      ||   _  \\     \n",
            "             |  ,----'|  |  |  | |   \\|  | `---|  |----`|  |_)  |      /  ^  \\ `---|  |----`|  ,----'|  |_)  |    \n",
            "             |  |     |  |  |  | |  . `  |     |  |     |      /      /  /_\\  \\    |  |     |  |     |      /     \n",
            "             |  `----.|  `--'  | |  |\\   |     |  |     |  |\\  \\----./  _____  \\   |  |     |  `----.|  |\\  \\----.\n",
            "              \\______| \\______/  |__| \\__|     |__|     | _| `._____/__/     \\__\\  |__|      \\______|| _| `._____|\n",
            "\n",
            "================================================================================================================================\n",
            "ContraTCR by Yichuan\n",
            "================================================================================================================================\n",
            "Called with: python run.py\n",
            "================================================================================================================================\n",
            "Result Directory: /content/ContraTCR/result/default/20240607-01-54-51\n",
            "Checkpoint Directory: /content/ContraTCR/result/default/20240607-01-54-51/checkpoint\n",
            "Log Directory: /content/ContraTCR/result/default/20240607-01-54-51/loginfo.log\n",
            "Config Directory: /content/ContraTCR/result/default/20240607-01-54-51/config.yaml\n",
            "Current Working Directory: /content/ContraTCR\n",
            "================================================================================================================================\n",
            "#### config.yaml ####\n",
            "    fix_seed: 42\n",
            "    description: \"ContraTCR by Yichuan\"\n",
            "================================================================================================================================\n",
            "Training Fold Indices: [2, 3, 4]\n",
            "Validation Fold Index: 0\n",
            "Test Fold Index: 1\n",
            "================================================================================================================================\n"
          ]
        }
      ]
    },
    {
      "cell_type": "code",
      "source": [
        "!cp -r /content/drive/MyDrive/KFolddata_old/ /content/ContraTCR"
      ],
      "metadata": {
        "id": "NeDlfARzaOXg"
      },
      "execution_count": 4,
      "outputs": []
    },
    {
      "cell_type": "code",
      "source": [
        "import pandas as pd\n",
        "from sklearn.model_selection import StratifiedKFold\n",
        "\n",
        "# 列出所有文件名\n",
        "filenames = [\n",
        "    '/content/ContraTCR/KFolddata_old/kfold1/KFold_1_train.csv',\n",
        "    '/content/ContraTCR/KFolddata_old/kfold2/KFold_2_train.csv',\n",
        "    '/content/ContraTCR/KFolddata_old/kfold3/KFold_3_train.csv',\n",
        "    '/content/ContraTCR/KFolddata_old/kfold4/KFold_4_train.csv',\n",
        "    '/content/ContraTCR/KFolddata_old/kfold5/KFold_5_train.csv',\n",
        "    '/content/ContraTCR/KFolddata_old/kfold1/KFold_1_test.csv',\n",
        "    '/content/ContraTCR/KFolddata_old/kfold2/KFold_2_test.csv',\n",
        "    '/content/ContraTCR/KFolddata_old/kfold3/KFold_3_test.csv',\n",
        "    '/content/ContraTCR/KFolddata_old/kfold4/KFold_4_test.csv',\n",
        "    '/content/ContraTCR/KFolddata_old/kfold5/KFold_5_test.csv'\n",
        "]\n",
        "\n",
        "# 读取所有文件\n",
        "dataframes = []\n",
        "for f in filenames:\n",
        "    df = pd.read_csv(f)\n",
        "    dataframes.append(df)\n",
        "    print(f\"File {f} has {len(df)} rows.\")\n",
        "\n",
        "# 合并成一个DataFrame\n",
        "combined_csv = pd.concat(dataframes, ignore_index=True)\n",
        "print(f\"Total number of rows in combined dataset: {len(combined_csv)}\")\n",
        "\n",
        "# Calculating value counts for 'binding_TCR' column\n",
        "value_counts = combined_csv['binding_TCR'].value_counts()\n",
        "\n",
        "# Getting the top 20 most frequent classes\n",
        "top_20_classes = value_counts.head(5).index\n",
        "\n",
        "# Filtering the DataFrame to only include rows where 'binding_TCR' is in the top 20 classes\n",
        "filtered_combined_csv = combined_csv[combined_csv['binding_TCR'].isin(top_20_classes)]\n",
        "\n",
        "# 使用 'binding_TCR' 列作为标签进行分层\n",
        "X = filtered_combined_csv.drop('binding_TCR', axis=1)  # 去除标签的数据\n",
        "y = filtered_combined_csv['binding_TCR']  # 标签数据\n",
        "\n",
        "# 定义一个5-fold分层交叉验证\n",
        "skf = StratifiedKFold(n_splits=5, shuffle=True, random_state=42)\n",
        "\n",
        "# 创建并保存每个fold\n",
        "fold_number = 0\n",
        "for _, fold_index in skf.split(X, y):\n",
        "    # 提取当前fold的数据\n",
        "    fold_data = filtered_combined_csv.iloc[fold_index]\n",
        "    fold_data.to_csv(f'/content/ContraTCR/KFolddata_old_mini/minifold_{fold_number}.csv', index=False)\n",
        "    print(f\"Fold {fold_number} data saved.\")\n",
        "    fold_number += 1\n"
      ],
      "metadata": {
        "colab": {
          "base_uri": "https://localhost:8080/"
        },
        "id": "o74lS9MoOUBr",
        "outputId": "2c2dac72-b471-453c-8ee3-1f8134477fcd"
      },
      "execution_count": 6,
      "outputs": [
        {
          "output_type": "stream",
          "name": "stdout",
          "text": [
            "File /content/ContraTCR/KFolddata_old/kfold1/KFold_1_train.csv has 29267 rows.\n",
            "File /content/ContraTCR/KFolddata_old/kfold2/KFold_2_train.csv has 27276 rows.\n",
            "File /content/ContraTCR/KFolddata_old/kfold3/KFold_3_train.csv has 26330 rows.\n",
            "File /content/ContraTCR/KFolddata_old/kfold4/KFold_4_train.csv has 13267 rows.\n",
            "File /content/ContraTCR/KFolddata_old/kfold5/KFold_5_train.csv has 28752 rows.\n",
            "File /content/ContraTCR/KFolddata_old/kfold1/KFold_1_test.csv has 1956 rows.\n",
            "File /content/ContraTCR/KFolddata_old/kfold2/KFold_2_test.csv has 3947 rows.\n",
            "File /content/ContraTCR/KFolddata_old/kfold3/KFold_3_test.csv has 4893 rows.\n",
            "File /content/ContraTCR/KFolddata_old/kfold4/KFold_4_test.csv has 17956 rows.\n",
            "File /content/ContraTCR/KFolddata_old/kfold5/KFold_5_test.csv has 2471 rows.\n",
            "Total number of rows in combined dataset: 156115\n",
            "Fold 0 data saved.\n",
            "Fold 1 data saved.\n",
            "Fold 2 data saved.\n",
            "Fold 3 data saved.\n",
            "Fold 4 data saved.\n"
          ]
        }
      ]
    },
    {
      "cell_type": "code",
      "source": [
        "124892+31223"
      ],
      "metadata": {
        "colab": {
          "base_uri": "https://localhost:8080/"
        },
        "id": "90AWuTuZO_-T",
        "outputId": "07805b6f-ddb7-4598-c826-3244e29b1225"
      },
      "execution_count": null,
      "outputs": [
        {
          "output_type": "execute_result",
          "data": {
            "text/plain": [
              "156115"
            ]
          },
          "metadata": {},
          "execution_count": 25
        }
      ]
    },
    {
      "cell_type": "code",
      "source": [],
      "metadata": {
        "id": "nVHUG3tNPSSb"
      },
      "execution_count": null,
      "outputs": []
    },
    {
      "cell_type": "code",
      "source": [
        "import pandas as pd\n",
        "\n",
        "filenames = [\n",
        "    '/content/ContraTCR/KFolddata_old/kfold1/KFold_1_train.csv',\n",
        "    '/content/ContraTCR/KFolddata_old/kfold2/KFold_2_train.csv',\n",
        "    '/content/ContraTCR/KFolddata_old/kfold3/KFold_3_train.csv',\n",
        "    '/content/ContraTCR/KFolddata_old/kfold4/KFold_4_train.csv',\n",
        "    '/content/ContraTCR/KFolddata_old/kfold5/KFold_5_train.csv'\n",
        "    ]\n",
        "\n",
        "dataframes = [pd.read_csv(filename) for filename in filenames]\n",
        "\n",
        "combined_csv = pd.concat(dataframes, ignore_index=True)"
      ],
      "metadata": {
        "id": "ZuAgXtyEcFEj"
      },
      "execution_count": null,
      "outputs": []
    },
    {
      "cell_type": "code",
      "source": [
        "combined_csv"
      ],
      "metadata": {
        "colab": {
          "base_uri": "https://localhost:8080/",
          "height": 423
        },
        "id": "SMIQqzXccd00",
        "outputId": "7e673319-4d5d-475c-c86c-070948a9129f"
      },
      "execution_count": null,
      "outputs": [
        {
          "output_type": "execute_result",
          "data": {
            "text/plain": [
              "          peptide        binding_TCR  label\n",
              "0       KLGGALQAK    CASSPAEATNEKLFF      1\n",
              "1       KLGGALQAK     CASSFGSYNSPLHF      1\n",
              "2       KLGGALQAK  CSARDLLAGGYTGELFF      1\n",
              "3       KLGGALQAK    CASSLGLAGTYEQYF      1\n",
              "4       KLGGALQAK    CASSFGTGSRNEQFF      1\n",
              "...           ...                ...    ...\n",
              "124887  QPRAPIRPI     CASSYSISGYEQYF      1\n",
              "124888  QPRAPIRPI      CAISESVNTEAFF      1\n",
              "124889  QPRAPIRPI       CASSPDDTEAFF      1\n",
              "124890  QPRAPIRPI    CSATTLVDSYNEQFF      1\n",
              "124891  QPRAPIRPI     CASSGQGVVETQYF      1\n",
              "\n",
              "[124892 rows x 3 columns]"
            ],
            "text/html": [
              "\n",
              "  <div id=\"df-f4b162fa-8af0-429b-8715-d1ac47d507d2\" class=\"colab-df-container\">\n",
              "    <div>\n",
              "<style scoped>\n",
              "    .dataframe tbody tr th:only-of-type {\n",
              "        vertical-align: middle;\n",
              "    }\n",
              "\n",
              "    .dataframe tbody tr th {\n",
              "        vertical-align: top;\n",
              "    }\n",
              "\n",
              "    .dataframe thead th {\n",
              "        text-align: right;\n",
              "    }\n",
              "</style>\n",
              "<table border=\"1\" class=\"dataframe\">\n",
              "  <thead>\n",
              "    <tr style=\"text-align: right;\">\n",
              "      <th></th>\n",
              "      <th>peptide</th>\n",
              "      <th>binding_TCR</th>\n",
              "      <th>label</th>\n",
              "    </tr>\n",
              "  </thead>\n",
              "  <tbody>\n",
              "    <tr>\n",
              "      <th>0</th>\n",
              "      <td>KLGGALQAK</td>\n",
              "      <td>CASSPAEATNEKLFF</td>\n",
              "      <td>1</td>\n",
              "    </tr>\n",
              "    <tr>\n",
              "      <th>1</th>\n",
              "      <td>KLGGALQAK</td>\n",
              "      <td>CASSFGSYNSPLHF</td>\n",
              "      <td>1</td>\n",
              "    </tr>\n",
              "    <tr>\n",
              "      <th>2</th>\n",
              "      <td>KLGGALQAK</td>\n",
              "      <td>CSARDLLAGGYTGELFF</td>\n",
              "      <td>1</td>\n",
              "    </tr>\n",
              "    <tr>\n",
              "      <th>3</th>\n",
              "      <td>KLGGALQAK</td>\n",
              "      <td>CASSLGLAGTYEQYF</td>\n",
              "      <td>1</td>\n",
              "    </tr>\n",
              "    <tr>\n",
              "      <th>4</th>\n",
              "      <td>KLGGALQAK</td>\n",
              "      <td>CASSFGTGSRNEQFF</td>\n",
              "      <td>1</td>\n",
              "    </tr>\n",
              "    <tr>\n",
              "      <th>...</th>\n",
              "      <td>...</td>\n",
              "      <td>...</td>\n",
              "      <td>...</td>\n",
              "    </tr>\n",
              "    <tr>\n",
              "      <th>124887</th>\n",
              "      <td>QPRAPIRPI</td>\n",
              "      <td>CASSYSISGYEQYF</td>\n",
              "      <td>1</td>\n",
              "    </tr>\n",
              "    <tr>\n",
              "      <th>124888</th>\n",
              "      <td>QPRAPIRPI</td>\n",
              "      <td>CAISESVNTEAFF</td>\n",
              "      <td>1</td>\n",
              "    </tr>\n",
              "    <tr>\n",
              "      <th>124889</th>\n",
              "      <td>QPRAPIRPI</td>\n",
              "      <td>CASSPDDTEAFF</td>\n",
              "      <td>1</td>\n",
              "    </tr>\n",
              "    <tr>\n",
              "      <th>124890</th>\n",
              "      <td>QPRAPIRPI</td>\n",
              "      <td>CSATTLVDSYNEQFF</td>\n",
              "      <td>1</td>\n",
              "    </tr>\n",
              "    <tr>\n",
              "      <th>124891</th>\n",
              "      <td>QPRAPIRPI</td>\n",
              "      <td>CASSGQGVVETQYF</td>\n",
              "      <td>1</td>\n",
              "    </tr>\n",
              "  </tbody>\n",
              "</table>\n",
              "<p>124892 rows × 3 columns</p>\n",
              "</div>\n",
              "    <div class=\"colab-df-buttons\">\n",
              "\n",
              "  <div class=\"colab-df-container\">\n",
              "    <button class=\"colab-df-convert\" onclick=\"convertToInteractive('df-f4b162fa-8af0-429b-8715-d1ac47d507d2')\"\n",
              "            title=\"Convert this dataframe to an interactive table.\"\n",
              "            style=\"display:none;\">\n",
              "\n",
              "  <svg xmlns=\"http://www.w3.org/2000/svg\" height=\"24px\" viewBox=\"0 -960 960 960\">\n",
              "    <path d=\"M120-120v-720h720v720H120Zm60-500h600v-160H180v160Zm220 220h160v-160H400v160Zm0 220h160v-160H400v160ZM180-400h160v-160H180v160Zm440 0h160v-160H620v160ZM180-180h160v-160H180v160Zm440 0h160v-160H620v160Z\"/>\n",
              "  </svg>\n",
              "    </button>\n",
              "\n",
              "  <style>\n",
              "    .colab-df-container {\n",
              "      display:flex;\n",
              "      gap: 12px;\n",
              "    }\n",
              "\n",
              "    .colab-df-convert {\n",
              "      background-color: #E8F0FE;\n",
              "      border: none;\n",
              "      border-radius: 50%;\n",
              "      cursor: pointer;\n",
              "      display: none;\n",
              "      fill: #1967D2;\n",
              "      height: 32px;\n",
              "      padding: 0 0 0 0;\n",
              "      width: 32px;\n",
              "    }\n",
              "\n",
              "    .colab-df-convert:hover {\n",
              "      background-color: #E2EBFA;\n",
              "      box-shadow: 0px 1px 2px rgba(60, 64, 67, 0.3), 0px 1px 3px 1px rgba(60, 64, 67, 0.15);\n",
              "      fill: #174EA6;\n",
              "    }\n",
              "\n",
              "    .colab-df-buttons div {\n",
              "      margin-bottom: 4px;\n",
              "    }\n",
              "\n",
              "    [theme=dark] .colab-df-convert {\n",
              "      background-color: #3B4455;\n",
              "      fill: #D2E3FC;\n",
              "    }\n",
              "\n",
              "    [theme=dark] .colab-df-convert:hover {\n",
              "      background-color: #434B5C;\n",
              "      box-shadow: 0px 1px 3px 1px rgba(0, 0, 0, 0.15);\n",
              "      filter: drop-shadow(0px 1px 2px rgba(0, 0, 0, 0.3));\n",
              "      fill: #FFFFFF;\n",
              "    }\n",
              "  </style>\n",
              "\n",
              "    <script>\n",
              "      const buttonEl =\n",
              "        document.querySelector('#df-f4b162fa-8af0-429b-8715-d1ac47d507d2 button.colab-df-convert');\n",
              "      buttonEl.style.display =\n",
              "        google.colab.kernel.accessAllowed ? 'block' : 'none';\n",
              "\n",
              "      async function convertToInteractive(key) {\n",
              "        const element = document.querySelector('#df-f4b162fa-8af0-429b-8715-d1ac47d507d2');\n",
              "        const dataTable =\n",
              "          await google.colab.kernel.invokeFunction('convertToInteractive',\n",
              "                                                    [key], {});\n",
              "        if (!dataTable) return;\n",
              "\n",
              "        const docLinkHtml = 'Like what you see? Visit the ' +\n",
              "          '<a target=\"_blank\" href=https://colab.research.google.com/notebooks/data_table.ipynb>data table notebook</a>'\n",
              "          + ' to learn more about interactive tables.';\n",
              "        element.innerHTML = '';\n",
              "        dataTable['output_type'] = 'display_data';\n",
              "        await google.colab.output.renderOutput(dataTable, element);\n",
              "        const docLink = document.createElement('div');\n",
              "        docLink.innerHTML = docLinkHtml;\n",
              "        element.appendChild(docLink);\n",
              "      }\n",
              "    </script>\n",
              "  </div>\n",
              "\n",
              "\n",
              "<div id=\"df-607e2d75-9a63-44ba-b891-a4a24f76baba\">\n",
              "  <button class=\"colab-df-quickchart\" onclick=\"quickchart('df-607e2d75-9a63-44ba-b891-a4a24f76baba')\"\n",
              "            title=\"Suggest charts\"\n",
              "            style=\"display:none;\">\n",
              "\n",
              "<svg xmlns=\"http://www.w3.org/2000/svg\" height=\"24px\"viewBox=\"0 0 24 24\"\n",
              "     width=\"24px\">\n",
              "    <g>\n",
              "        <path d=\"M19 3H5c-1.1 0-2 .9-2 2v14c0 1.1.9 2 2 2h14c1.1 0 2-.9 2-2V5c0-1.1-.9-2-2-2zM9 17H7v-7h2v7zm4 0h-2V7h2v10zm4 0h-2v-4h2v4z\"/>\n",
              "    </g>\n",
              "</svg>\n",
              "  </button>\n",
              "\n",
              "<style>\n",
              "  .colab-df-quickchart {\n",
              "      --bg-color: #E8F0FE;\n",
              "      --fill-color: #1967D2;\n",
              "      --hover-bg-color: #E2EBFA;\n",
              "      --hover-fill-color: #174EA6;\n",
              "      --disabled-fill-color: #AAA;\n",
              "      --disabled-bg-color: #DDD;\n",
              "  }\n",
              "\n",
              "  [theme=dark] .colab-df-quickchart {\n",
              "      --bg-color: #3B4455;\n",
              "      --fill-color: #D2E3FC;\n",
              "      --hover-bg-color: #434B5C;\n",
              "      --hover-fill-color: #FFFFFF;\n",
              "      --disabled-bg-color: #3B4455;\n",
              "      --disabled-fill-color: #666;\n",
              "  }\n",
              "\n",
              "  .colab-df-quickchart {\n",
              "    background-color: var(--bg-color);\n",
              "    border: none;\n",
              "    border-radius: 50%;\n",
              "    cursor: pointer;\n",
              "    display: none;\n",
              "    fill: var(--fill-color);\n",
              "    height: 32px;\n",
              "    padding: 0;\n",
              "    width: 32px;\n",
              "  }\n",
              "\n",
              "  .colab-df-quickchart:hover {\n",
              "    background-color: var(--hover-bg-color);\n",
              "    box-shadow: 0 1px 2px rgba(60, 64, 67, 0.3), 0 1px 3px 1px rgba(60, 64, 67, 0.15);\n",
              "    fill: var(--button-hover-fill-color);\n",
              "  }\n",
              "\n",
              "  .colab-df-quickchart-complete:disabled,\n",
              "  .colab-df-quickchart-complete:disabled:hover {\n",
              "    background-color: var(--disabled-bg-color);\n",
              "    fill: var(--disabled-fill-color);\n",
              "    box-shadow: none;\n",
              "  }\n",
              "\n",
              "  .colab-df-spinner {\n",
              "    border: 2px solid var(--fill-color);\n",
              "    border-color: transparent;\n",
              "    border-bottom-color: var(--fill-color);\n",
              "    animation:\n",
              "      spin 1s steps(1) infinite;\n",
              "  }\n",
              "\n",
              "  @keyframes spin {\n",
              "    0% {\n",
              "      border-color: transparent;\n",
              "      border-bottom-color: var(--fill-color);\n",
              "      border-left-color: var(--fill-color);\n",
              "    }\n",
              "    20% {\n",
              "      border-color: transparent;\n",
              "      border-left-color: var(--fill-color);\n",
              "      border-top-color: var(--fill-color);\n",
              "    }\n",
              "    30% {\n",
              "      border-color: transparent;\n",
              "      border-left-color: var(--fill-color);\n",
              "      border-top-color: var(--fill-color);\n",
              "      border-right-color: var(--fill-color);\n",
              "    }\n",
              "    40% {\n",
              "      border-color: transparent;\n",
              "      border-right-color: var(--fill-color);\n",
              "      border-top-color: var(--fill-color);\n",
              "    }\n",
              "    60% {\n",
              "      border-color: transparent;\n",
              "      border-right-color: var(--fill-color);\n",
              "    }\n",
              "    80% {\n",
              "      border-color: transparent;\n",
              "      border-right-color: var(--fill-color);\n",
              "      border-bottom-color: var(--fill-color);\n",
              "    }\n",
              "    90% {\n",
              "      border-color: transparent;\n",
              "      border-bottom-color: var(--fill-color);\n",
              "    }\n",
              "  }\n",
              "</style>\n",
              "\n",
              "  <script>\n",
              "    async function quickchart(key) {\n",
              "      const quickchartButtonEl =\n",
              "        document.querySelector('#' + key + ' button');\n",
              "      quickchartButtonEl.disabled = true;  // To prevent multiple clicks.\n",
              "      quickchartButtonEl.classList.add('colab-df-spinner');\n",
              "      try {\n",
              "        const charts = await google.colab.kernel.invokeFunction(\n",
              "            'suggestCharts', [key], {});\n",
              "      } catch (error) {\n",
              "        console.error('Error during call to suggestCharts:', error);\n",
              "      }\n",
              "      quickchartButtonEl.classList.remove('colab-df-spinner');\n",
              "      quickchartButtonEl.classList.add('colab-df-quickchart-complete');\n",
              "    }\n",
              "    (() => {\n",
              "      let quickchartButtonEl =\n",
              "        document.querySelector('#df-607e2d75-9a63-44ba-b891-a4a24f76baba button');\n",
              "      quickchartButtonEl.style.display =\n",
              "        google.colab.kernel.accessAllowed ? 'block' : 'none';\n",
              "    })();\n",
              "  </script>\n",
              "</div>\n",
              "\n",
              "  <div id=\"id_96a3602d-595f-4804-a35e-7cc729dc340a\">\n",
              "    <style>\n",
              "      .colab-df-generate {\n",
              "        background-color: #E8F0FE;\n",
              "        border: none;\n",
              "        border-radius: 50%;\n",
              "        cursor: pointer;\n",
              "        display: none;\n",
              "        fill: #1967D2;\n",
              "        height: 32px;\n",
              "        padding: 0 0 0 0;\n",
              "        width: 32px;\n",
              "      }\n",
              "\n",
              "      .colab-df-generate:hover {\n",
              "        background-color: #E2EBFA;\n",
              "        box-shadow: 0px 1px 2px rgba(60, 64, 67, 0.3), 0px 1px 3px 1px rgba(60, 64, 67, 0.15);\n",
              "        fill: #174EA6;\n",
              "      }\n",
              "\n",
              "      [theme=dark] .colab-df-generate {\n",
              "        background-color: #3B4455;\n",
              "        fill: #D2E3FC;\n",
              "      }\n",
              "\n",
              "      [theme=dark] .colab-df-generate:hover {\n",
              "        background-color: #434B5C;\n",
              "        box-shadow: 0px 1px 3px 1px rgba(0, 0, 0, 0.15);\n",
              "        filter: drop-shadow(0px 1px 2px rgba(0, 0, 0, 0.3));\n",
              "        fill: #FFFFFF;\n",
              "      }\n",
              "    </style>\n",
              "    <button class=\"colab-df-generate\" onclick=\"generateWithVariable('combined_csv')\"\n",
              "            title=\"Generate code using this dataframe.\"\n",
              "            style=\"display:none;\">\n",
              "\n",
              "  <svg xmlns=\"http://www.w3.org/2000/svg\" height=\"24px\"viewBox=\"0 0 24 24\"\n",
              "       width=\"24px\">\n",
              "    <path d=\"M7,19H8.4L18.45,9,17,7.55,7,17.6ZM5,21V16.75L18.45,3.32a2,2,0,0,1,2.83,0l1.4,1.43a1.91,1.91,0,0,1,.58,1.4,1.91,1.91,0,0,1-.58,1.4L9.25,21ZM18.45,9,17,7.55Zm-12,3A5.31,5.31,0,0,0,4.9,8.1,5.31,5.31,0,0,0,1,6.5,5.31,5.31,0,0,0,4.9,4.9,5.31,5.31,0,0,0,6.5,1,5.31,5.31,0,0,0,8.1,4.9,5.31,5.31,0,0,0,12,6.5,5.46,5.46,0,0,0,6.5,12Z\"/>\n",
              "  </svg>\n",
              "    </button>\n",
              "    <script>\n",
              "      (() => {\n",
              "      const buttonEl =\n",
              "        document.querySelector('#id_96a3602d-595f-4804-a35e-7cc729dc340a button.colab-df-generate');\n",
              "      buttonEl.style.display =\n",
              "        google.colab.kernel.accessAllowed ? 'block' : 'none';\n",
              "\n",
              "      buttonEl.onclick = () => {\n",
              "        google.colab.notebook.generateWithVariable('combined_csv');\n",
              "      }\n",
              "      })();\n",
              "    </script>\n",
              "  </div>\n",
              "\n",
              "    </div>\n",
              "  </div>\n"
            ],
            "application/vnd.google.colaboratory.intrinsic+json": {
              "type": "dataframe",
              "variable_name": "combined_csv"
            }
          },
          "metadata": {},
          "execution_count": 10
        }
      ]
    },
    {
      "cell_type": "code",
      "source": [
        "unique_values = combined_csv['binding_TCR'].unique()\n",
        "print(f\"Unique values in 'binding_TCR': {unique_values}\")\n",
        "print(f\"Number of unique values: {len(unique_values)}\")\n"
      ],
      "metadata": {
        "colab": {
          "base_uri": "https://localhost:8080/"
        },
        "id": "WnlkIqV3c6t2",
        "outputId": "86c9f2a4-5169-4e63-9ea0-50e5151982d6"
      },
      "execution_count": null,
      "outputs": [
        {
          "output_type": "stream",
          "name": "stdout",
          "text": [
            "Unique values in 'binding_TCR': ['CASSPAEATNEKLFF' 'CASSFGSYNSPLHF' 'CSARDLLAGGYTGELFF' ... 'CASSPDDTEAFF'\n",
            " 'CSATTLVDSYNEQFF' 'CASSGQGVVETQYF']\n",
            "Number of unique values: 29057\n"
          ]
        }
      ]
    },
    {
      "cell_type": "code",
      "source": [
        "len(combined_csv['binding_TCR'])"
      ],
      "metadata": {
        "colab": {
          "base_uri": "https://localhost:8080/"
        },
        "id": "SnMTrbGSdZik",
        "outputId": "be02ae49-5802-4d63-af08-ce52ce36128f"
      },
      "execution_count": null,
      "outputs": [
        {
          "output_type": "execute_result",
          "data": {
            "text/plain": [
              "124892"
            ]
          },
          "metadata": {},
          "execution_count": 12
        }
      ]
    },
    {
      "cell_type": "code",
      "source": [
        "unique_values = combined_csv['peptide'].unique()\n",
        "print(f\"Unique values in 'peptide': {unique_values}\")\n",
        "print(f\"Number of unique values: {len(unique_values)}\")"
      ],
      "metadata": {
        "colab": {
          "base_uri": "https://localhost:8080/"
        },
        "id": "0fErBEIMdj95",
        "outputId": "a84582d7-debe-41a9-e69b-4d6f12156bde"
      },
      "execution_count": null,
      "outputs": [
        {
          "output_type": "stream",
          "name": "stdout",
          "text": [
            "Unique values in 'peptide': ['KLGGALQAK' 'NLVPMVATV' 'LPRRSGAAGA' 'GILGFVFTL' 'AVFDRKSDAK' 'GLCTLVAML'\n",
            " 'RAKFKQLL' 'LLWNGPMAV' 'CRVLCCYVL' 'IVTDFSVIK' 'TPRVTGGGAM' 'RLRAEAQVK'\n",
            " 'VTEHDTLLY' 'KRWIILGLNK' 'YVLDHLIVV' 'RPHERNGFTVL' 'KAFSPEVIPMF'\n",
            " 'ATDALMTGY' 'SFHSLHLLF' 'KLVALGINAV' 'FPRPWLHGL' 'EIYKRWII' 'IPSINVHHY'\n",
            " 'RYPLTFGWCF' 'FLKEKGGL' 'DATYQRTRALVR' 'LPPIVAKEI' 'SPRWYFYYL'\n",
            " 'TPQDLNTML' 'RPRGEVRFL' 'NLNCCSVPV' 'HPKVSSEVHI' 'LLFGYPVYV' 'NEGVKAAW'\n",
            " 'IMNDMPIYM' 'GPGHKARVL' 'CINGVCWTV' 'RPPIFIRRL' 'KMVAVFYTT' 'GTSGSPIINR'\n",
            " 'YLQPRTFLL' 'MLNIPSINV' 'VVLSWAPPV' 'HSKKKCDEL' 'FEDLRVLSF' 'VVMSWAPPV'\n",
            " 'IIKDYGKQM' 'FEDLRLLSF' 'KRWIIMGLNK' 'VLFGLGFAI' 'ILTGLNYEV' 'FLRGRAYGL'\n",
            " 'RTLNAWVKV' 'EPLPQGQLTAY' 'HPVGEADYFEY' 'QIKVRVKMV' 'FEDLRVSSF'\n",
            " 'RFPLTFGWCF' 'QVPLRPMTYK' 'ALYGFVPVL' 'ISPRTLNAW' 'ILTGLNYEA'\n",
            " 'KLSALGINAV' 'FLYALALLL' 'QIKVRVDMV' 'FLASKIGRLV' 'GTSGSPIIDK'\n",
            " 'IMDQVPFSV' 'RLGPYLEFL' 'ALSPVIPHI' 'RLQSLQTYV' 'SLFNTVATL' 'VAANIVLTV'\n",
            " 'RLRPGGKKK' 'QYIKWPWYI' 'LLDFVRFMGV' 'FLYNPLTRV' 'FLYNLLTRV'\n",
            " 'YLAMPFATPMEAELARRSLA' 'LPRWYFYYL' 'TAFTIPSI' 'FMLYLLTLM' 'GLNKIVRMY'\n",
            " 'SLLMWITQC' 'CTELKLNDY' 'KTWGQYWQV' 'MMPFSIVYI' 'CVNGSCFTV' 'MTLHGFMMY'\n",
            " 'VSFIEFVGW' 'VLEETSVML' 'ARMILMTHF' 'LMFWASSSI' 'AVGSYVYSV' 'VLNYFEPYL'\n",
            " 'RYPLTFGW' 'ILNVDIFTL' 'CYTWNQMNL' 'ITDQVPFSV' 'LLAMTVPNV' 'FPTKDVAL'\n",
            " 'LLGATCMFV' 'FLIYLDVSV' 'NLFNRYPAL' 'KLMNIQQQL' 'LLFGMPPCL' 'YLEPGPVTA'\n",
            " 'VLFHRAFLV' 'LLLGIGILV' 'YPLHEQHGM' 'KLLEIAPNC' 'SLLMWITQV' 'RLVPYLEFL'\n",
            " 'VLNYFKPYL' 'ALYGSVPVL' 'LLFGMTPCL' 'LPEPLPQGQLTAY' 'ILNVDVFTL'\n",
            " 'ALTPVVVTL' 'GCQEICPAC' 'RTMEVCYNT' 'KVKEVCPNV' 'AEMEFCPCC' 'CFVECAPVC'\n",
            " 'YLLEMLWRL' 'MMPFSIVYIV' 'LLAILTYYV' 'RLARLALVL' 'CLGGLLTMV'\n",
            " 'APRGPHGGAASGL' 'FLGKIWPSHK' 'KVLEYVIKV' 'CFLLILPNC' 'VLNPFIYML'\n",
            " 'LLFALHFSA' 'LIIPFIHLI' 'GMGPLLATV' 'FMIGYTSAL' 'MIISHLYLI' 'YVLTWIVGA'\n",
            " 'VMPFSIVYI' 'KLFEFLVYGV' 'LLAGTLAGV' 'MLYQHLLPL' 'SLLWMNPFV' 'LLAILPYYV'\n",
            " 'RLRPGGRKR' 'RAFSPEVIPMF' 'THLMVLCCV' 'VYGIRLEHF' 'NMIHFAPNV' 'LLSLFSLWL'\n",
            " 'LLFALYFSA' 'SLLWMNLFV' 'GADGVGKSAL' 'SLFWNEPAI' 'GLTSFFIAI' 'FLTYLDVSV'\n",
            " 'KIVALGINAV' 'SLAPLSPRA' 'SLPITVYYA' 'ELKRKMIYM' 'KMVTVCPNT' 'NDMLVCANI'\n",
            " 'NMINFAPNI' 'LVLEVDPNI' 'ELAGIGILTV' 'EAAGIGILTV' 'FRCPRRFCF' 'FLCMKALLL'\n",
            " 'CTELKLSDY' 'YSEHPTFTSQY' 'GTSGSPIVNR' 'TPGPGVRYPL' 'QYDPVAALF'\n",
            " 'SLYNTVATL' 'AYAQKIFKI' 'KLWASPLHV' 'SLLMWITQA' 'ELRRKMMYM' 'ILNAMIAKI'\n",
            " 'NLSALGIFST' 'KMVAVFYNT' 'LLSIIFFPA' 'NYNYLYRLF' 'RLRPGGKKR' 'MLDLQPETT'\n",
            " 'FLTVFSHFM' 'TLWCSPIKV' 'LLSIISFPA' 'KLNTITPVV' 'SLAPLSPRV' 'ALSPVIPLI'\n",
            " 'QASQEVKNW' 'TQGYFPDWQNY' 'AAGIGILTV' 'EIQEFCPNT' 'ILKEPVHGV' 'KLMNIQQKL'\n",
            " 'RMFPNAPYL' 'ILNAMITKI' 'VMPFSIVYIV' 'YLEPGPVTV' 'ALDPHSGHFV' 'LLAGTLAVV'\n",
            " 'GMGPLLAMV' 'YLNDHLEPWI' 'QPRAPIRPI']\n",
            "Number of unique values: 208\n"
          ]
        }
      ]
    },
    {
      "cell_type": "code",
      "source": [
        "len(combined_csv['peptide'])"
      ],
      "metadata": {
        "colab": {
          "base_uri": "https://localhost:8080/"
        },
        "id": "nRBQWgrjd_8i",
        "outputId": "f368c489-3b5c-4530-fed0-a2283dde0c34"
      },
      "execution_count": null,
      "outputs": [
        {
          "output_type": "execute_result",
          "data": {
            "text/plain": [
              "124892"
            ]
          },
          "metadata": {},
          "execution_count": 14
        }
      ]
    },
    {
      "cell_type": "code",
      "source": [
        "import pandas as pd\n",
        "\n",
        "filenames = [\n",
        "    '/content/ContraTCR/KFolddata_old/kfold1/KFold_1_test.csv',\n",
        "    '/content/ContraTCR/KFolddata_old/kfold2/KFold_2_test.csv',\n",
        "    '/content/ContraTCR/KFolddata_old/kfold3/KFold_3_test.csv',\n",
        "    '/content/ContraTCR/KFolddata_old/kfold4/KFold_4_test.csv',\n",
        "    '/content/ContraTCR/KFolddata_old/kfold5/KFold_5_test.csv'\n",
        "    ]\n",
        "\n",
        "dataframes = [pd.read_csv(filename) for filename in filenames]\n",
        "\n",
        "combined_csv = pd.concat(dataframes, ignore_index=True)"
      ],
      "metadata": {
        "id": "rmoNappxeOg4"
      },
      "execution_count": null,
      "outputs": []
    },
    {
      "cell_type": "code",
      "source": [
        "unique_values = combined_csv['binding_TCR'].unique()\n",
        "print(f\"Unique values in 'binding_TCR': {unique_values}\")\n",
        "print(f\"Number of unique values: {len(unique_values)}\")"
      ],
      "metadata": {
        "colab": {
          "base_uri": "https://localhost:8080/"
        },
        "id": "afm9SdGeeWzh",
        "outputId": "6b6fdd90-b89f-44c0-e0d7-d71de0da20b2"
      },
      "execution_count": null,
      "outputs": [
        {
          "output_type": "stream",
          "name": "stdout",
          "text": [
            "Unique values in 'binding_TCR': ['CASSFQGLGTEAF' 'CSALQGLTPEAFFG' 'CSARDGTSSGYF' ... 'CASSYGGSSYEQYF'\n",
            " 'CASSPYGNTIYF' 'CATSFSRMANEKLFF']\n",
            "Number of unique values: 29057\n"
          ]
        }
      ]
    },
    {
      "cell_type": "code",
      "source": [
        "len(combined_csv['binding_TCR'])"
      ],
      "metadata": {
        "colab": {
          "base_uri": "https://localhost:8080/"
        },
        "id": "SDM9tpkYeccr",
        "outputId": "b3479a85-673a-4383-d07f-f7a0e7b1918b"
      },
      "execution_count": null,
      "outputs": [
        {
          "output_type": "execute_result",
          "data": {
            "text/plain": [
              "31223"
            ]
          },
          "metadata": {},
          "execution_count": 19
        }
      ]
    },
    {
      "cell_type": "code",
      "source": [
        "unique_values = combined_csv['peptide'].unique()\n",
        "print(f\"Unique values in 'peptide': {unique_values}\")\n",
        "print(f\"Number of unique values: {len(unique_values)}\")\n",
        "len(combined_csv['peptide'])"
      ],
      "metadata": {
        "colab": {
          "base_uri": "https://localhost:8080/"
        },
        "id": "aoxbruKgekCR",
        "outputId": "dfbefa0e-2a8e-4610-81d4-7e2b7eaf4183"
      },
      "execution_count": null,
      "outputs": [
        {
          "output_type": "stream",
          "name": "stdout",
          "text": [
            "Unique values in 'peptide': ['ELAGIGILTV' 'EAAGIGILTV' 'FRCPRRFCF' 'FLCMKALLL' 'CTELKLSDY'\n",
            " 'YSEHPTFTSQY' 'GTSGSPIVNR' 'TPGPGVRYPL' 'QYDPVAALF' 'SLYNTVATL'\n",
            " 'AYAQKIFKI' 'KLWASPLHV' 'SLLMWITQA' 'ELRRKMMYM' 'ILNAMIAKI' 'NLSALGIFST'\n",
            " 'KMVAVFYNT' 'LLSIIFFPA' 'NYNYLYRLF' 'RLRPGGKKR' 'MLDLQPETT' 'FLTVFSHFM'\n",
            " 'TLWCSPIKV' 'LLSIISFPA' 'KLNTITPVV' 'SLAPLSPRV' 'ALSPVIPLI' 'QASQEVKNW'\n",
            " 'TQGYFPDWQNY' 'AAGIGILTV' 'EIQEFCPNT' 'ILKEPVHGV' 'KLMNIQQKL' 'RMFPNAPYL'\n",
            " 'ILNAMITKI' 'VMPFSIVYIV' 'YLEPGPVTV' 'ALDPHSGHFV' 'LLAGTLAVV' 'GMGPLLAMV'\n",
            " 'YLNDHLEPWI' 'QPRAPIRPI' 'LPRRSGAAGA' 'IVTDFSVIK' 'KRWIILGLNK'\n",
            " 'RPHERNGFTVL' 'ATDALMTGY' 'FPRPWLHGL' 'IPSINVHHY' 'RYPLTFGWCF'\n",
            " 'TPQDLNTML' 'LLFGYPVYV' 'KMVAVFYTT' 'YLQPRTFLL' 'MLNIPSINV' 'VVLSWAPPV'\n",
            " 'ILTGLNYEV' 'QYIKWPWYI' 'MTLHGFMMY' 'RYPLTFGW' 'FPTKDVAL' 'NLFNRYPAL'\n",
            " 'LLFGMPPCL' 'ALYGSVPVL' 'LLFGMTPCL' 'LPEPLPQGQLTAY' 'GCQEICPAC'\n",
            " 'KVKEVCPNV' 'AEMEFCPCC' 'MMPFSIVYIV' 'LLAILTYYV' 'FLGKIWPSHK' 'LLFALHFSA'\n",
            " 'LLAGTLAGV' 'LLAILPYYV' 'RLRPGGRKR' 'RAFSPEVIPMF' 'VYGIRLEHF'\n",
            " 'GADGVGKSAL' 'SLFWNEPAI' 'GLTSFFIAI' 'SLAPLSPRA' 'SLPITVYYA' 'ELKRKMIYM'\n",
            " 'GILGFVFTL' 'AVFDRKSDAK' 'CRVLCCYVL' 'YVLDHLIVV' 'KLVALGINAV' 'EIYKRWII'\n",
            " 'FLKEKGGL' 'LPPIVAKEI' 'RPRGEVRFL' 'NLNCCSVPV' 'RPPIFIRRL' 'GTSGSPIINR'\n",
            " 'HSKKKCDEL' 'FEDLRVLSF' 'VVMSWAPPV' 'IIKDYGKQM' 'RTLNAWVKV' 'HPVGEADYFEY'\n",
            " 'RFPLTFGWCF' 'ISPRTLNAW' 'ILTGLNYEA' 'FLYALALLL' 'LLDFVRFMGV' 'FMLYLLTLM'\n",
            " 'GLNKIVRMY' 'CVNGSCFTV' 'VLNYFEPYL' 'LLGATCMFV' 'KLMNIQQQL' 'YLEPGPVTA'\n",
            " 'VLFHRAFLV' 'YPLHEQHGM' 'SLLMWITQV' 'RLVPYLEFL' 'RTMEVCYNT'\n",
            " 'APRGPHGGAASGL' 'CFLLILPNC' 'VMPFSIVYI' 'KLFEFLVYGV' 'MLYQHLLPL'\n",
            " 'SLLWMNPFV' 'FLTYLDVSV' 'KLGGALQAK' 'NLVPMVATV' 'RAKFKQLL' 'LLWNGPMAV'\n",
            " 'RLRAEAQVK' 'VTEHDTLLY' 'SFHSLHLLF' 'HPKVSSEVHI' 'CINGVCWTV' 'KRWIIMGLNK'\n",
            " 'FLRGRAYGL' 'FEDLRVSSF' 'ALYGFVPVL' 'KLSALGINAV' 'ALSPVIPHI' 'RLQSLQTYV'\n",
            " 'SLFNTVATL' 'VAANIVLTV' 'RLRPGGKKK' 'LPRWYFYYL' 'SLLMWITQC' 'CTELKLNDY'\n",
            " 'KTWGQYWQV' 'ARMILMTHF' 'AVGSYVYSV' 'ILNVDIFTL' 'CYTWNQMNL' 'LLAMTVPNV'\n",
            " 'FLIYLDVSV' 'LLLGIGILV' 'VLNYFKPYL' 'ALTPVVVTL' 'CFVECAPVC' 'YLLEMLWRL'\n",
            " 'RLARLALVL' 'CLGGLLTMV' 'FMIGYTSAL' 'MIISHLYLI' 'NMIHFAPNV' 'LLFALYFSA'\n",
            " 'KIVALGINAV' 'GLCTLVAML' 'TPRVTGGGAM' 'KAFSPEVIPMF' 'DATYQRTRALVR'\n",
            " 'SPRWYFYYL' 'NEGVKAAW' 'IMNDMPIYM' 'GPGHKARVL' 'FEDLRLLSF' 'VLFGLGFAI'\n",
            " 'EPLPQGQLTAY' 'QIKVRVKMV' 'QVPLRPMTYK' 'QIKVRVDMV' 'FLASKIGRLV'\n",
            " 'GTSGSPIIDK' 'IMDQVPFSV' 'RLGPYLEFL' 'FLYNPLTRV' 'FLYNLLTRV'\n",
            " 'YLAMPFATPMEAELARRSLA' 'TAFTIPSI' 'MMPFSIVYI' 'VSFIEFVGW' 'VLEETSVML'\n",
            " 'LMFWASSSI' 'ITDQVPFSV' 'KLLEIAPNC' 'ILNVDVFTL' 'KVLEYVIKV' 'VLNPFIYML'\n",
            " 'LIIPFIHLI' 'GMGPLLATV' 'YVLTWIVGA' 'THLMVLCCV' 'LLSLFSLWL' 'SLLWMNLFV'\n",
            " 'KMVTVCPNT' 'NDMLVCANI' 'NMINFAPNI' 'LVLEVDPNI']\n",
            "Number of unique values: 208\n"
          ]
        },
        {
          "output_type": "execute_result",
          "data": {
            "text/plain": [
              "31223"
            ]
          },
          "metadata": {},
          "execution_count": 20
        }
      ]
    },
    {
      "cell_type": "code",
      "source": [
        "import pandas as pd\n",
        "\n",
        "filenames = [\n",
        "    '/content/ContraTCR/KFolddata_old/kfold1/KFold_1_train.csv'\n",
        "    ]\n",
        "\n",
        "dataframes = [pd.read_csv(filename) for filename in filenames]\n",
        "\n",
        "combined_csv = pd.concat(dataframes, ignore_index=True)"
      ],
      "metadata": {
        "id": "KexSM61Te3oi"
      },
      "execution_count": null,
      "outputs": []
    },
    {
      "cell_type": "code",
      "source": [
        "unique_values = combined_csv['binding_TCR'].unique()\n",
        "print(f\"Unique values in 'binding_TCR': {unique_values}\")\n",
        "print(f\"Number of unique values: {len(unique_values)}\")"
      ],
      "metadata": {
        "colab": {
          "base_uri": "https://localhost:8080/"
        },
        "id": "0miw_25oe7CC",
        "outputId": "1b1d5014-6bf4-4110-8f78-33c0b29720db"
      },
      "execution_count": null,
      "outputs": [
        {
          "output_type": "stream",
          "name": "stdout",
          "text": [
            "Unique values in 'binding_TCR': ['CASSPAEATNEKLFF' 'CASSFGSYNSPLHF' 'CSARDLLAGGYTGELFF' ...\n",
            " 'CASSLLMATNEKLFF' 'CASSQAVASGGGRSEQFF' 'CASSYRANYEQYF']\n",
            "Number of unique values: 27374\n"
          ]
        }
      ]
    },
    {
      "cell_type": "code",
      "source": [
        "import pandas as pd\n",
        "\n",
        "filenames = [\n",
        "    '/content/ContraTCR/KFolddata_old/kfold1/KFold_1_test.csv'\n",
        "    ]\n",
        "\n",
        "dataframes = [pd.read_csv(filename) for filename in filenames]\n",
        "\n",
        "combined_csv = pd.concat(dataframes, ignore_index=True)"
      ],
      "metadata": {
        "id": "11E6uGhme8I7"
      },
      "execution_count": null,
      "outputs": []
    },
    {
      "cell_type": "code",
      "source": [
        "unique_values1 = combined_csv['binding_TCR'].unique()\n",
        "print(f\"Unique values in 'binding_TCR': {unique_values}\")\n",
        "print(f\"Number of unique values: {len(unique_values)}\")"
      ],
      "metadata": {
        "colab": {
          "base_uri": "https://localhost:8080/"
        },
        "id": "lpLmuwLee_Jl",
        "outputId": "6ac91683-321c-4d4b-e5c8-9ee0e0d5d4d8"
      },
      "execution_count": null,
      "outputs": [
        {
          "output_type": "stream",
          "name": "stdout",
          "text": [
            "Unique values in 'binding_TCR': ['CASSPAEATNEKLFF' 'CASSFGSYNSPLHF' 'CSARDLLAGGYTGELFF' ...\n",
            " 'CASSLLMATNEKLFF' 'CASSQAVASGGGRSEQFF' 'CASSYRANYEQYF']\n",
            "Number of unique values: 27374\n"
          ]
        }
      ]
    },
    {
      "cell_type": "code",
      "source": [
        "for i in unique_values1:\n",
        "  if i not in unique_values:\n",
        "    print('no')\n",
        "    break"
      ],
      "metadata": {
        "colab": {
          "base_uri": "https://localhost:8080/"
        },
        "id": "F68ujYfYfIae",
        "outputId": "623e91a9-6713-421e-edbc-9786e37e1aa0"
      },
      "execution_count": null,
      "outputs": [
        {
          "output_type": "stream",
          "name": "stdout",
          "text": [
            "no\n"
          ]
        }
      ]
    },
    {
      "cell_type": "code",
      "source": [
        "import pandas as pd\n",
        "\n",
        "filenames = [\n",
        "    '/content/ContraTCR/KFolddata_old_yc/fold_4.csv'\n",
        "    ]\n",
        "\n",
        "dataframes = [pd.read_csv(filename) for filename in filenames]\n",
        "\n",
        "combined_csv = pd.concat(dataframes, ignore_index=True)"
      ],
      "metadata": {
        "id": "9RnicgYiQfxf"
      },
      "execution_count": null,
      "outputs": []
    },
    {
      "cell_type": "code",
      "source": [
        "unique_values = combined_csv['binding_TCR'].unique()\n",
        "print(f\"Unique values in 'binding_TCR': {unique_values}\")\n",
        "print(f\"Number of unique values: {len(unique_values)}\")"
      ],
      "metadata": {
        "colab": {
          "base_uri": "https://localhost:8080/"
        },
        "id": "s5rj5vToQgnC",
        "outputId": "d613c042-a695-40a8-a477-86e457e9b003"
      },
      "execution_count": null,
      "outputs": [
        {
          "output_type": "stream",
          "name": "stdout",
          "text": [
            "Unique values in 'binding_TCR': ['CASSFGTGSRNEQFF' 'CASSEVGGRGEQYF' 'CASSLGWGVNEQFF' ...\n",
            " 'CASSPHSGGDPRNEQFF' 'CASSVGNTEAFF' 'CATSFSRMANEKLFF']\n",
            "Number of unique values: 29057\n"
          ]
        }
      ]
    }
  ]
}